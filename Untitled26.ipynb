{
  "nbformat": 4,
  "nbformat_minor": 0,
  "metadata": {
    "colab": {
      "name": "Untitled26.ipynb",
      "provenance": [],
      "authorship_tag": "ABX9TyPA9XhY6jlP2LS0sl4yuaVY",
      "include_colab_link": true
    },
    "kernelspec": {
      "name": "python3",
      "display_name": "Python 3"
    },
    "language_info": {
      "name": "python"
    },
    "accelerator": "GPU"
  },
  "cells": [
    {
      "cell_type": "markdown",
      "metadata": {
        "id": "view-in-github",
        "colab_type": "text"
      },
      "source": [
        "<a href=\"https://colab.research.google.com/github/belkhir-nacim/ensta_ia321_image_generation/blob/main/Untitled26.ipynb\" target=\"_parent\"><img src=\"https://colab.research.google.com/assets/colab-badge.svg\" alt=\"Open In Colab\"/></a>"
      ]
    },
    {
      "cell_type": "code",
      "execution_count": 3,
      "metadata": {
        "colab": {
          "base_uri": "https://localhost:8080/"
        },
        "id": "6_aQ8DXFmv3i",
        "outputId": "f7bc91fa-b8eb-4092-fc5d-cc8ac97743fc"
      },
      "outputs": [
        {
          "output_type": "stream",
          "name": "stdout",
          "text": [
            "Cloning into 'PIC_BNP_PROJET'...\n",
            "remote: Enumerating objects: 3356, done.\u001b[K\n",
            "remote: Counting objects: 100% (3356/3356), done.\u001b[K\n",
            "remote: Compressing objects: 100% (3066/3066), done.\u001b[K\n",
            "remote: Total 3356 (delta 289), reused 3356 (delta 289), pack-reused 0\u001b[K\n",
            "Receiving objects: 100% (3356/3356), 446.97 MiB | 28.48 MiB/s, done.\n",
            "Resolving deltas: 100% (289/289), done.\n",
            "Checking out files: 100% (3361/3361), done.\n"
          ]
        }
      ],
      "source": [
        "!git clone 'https://github.com/YufeiHU-fr/PIC_BNP_PROJET.git'"
      ]
    },
    {
      "cell_type": "code",
      "source": [
        "!pip uninstall transformers\n",
        "!pip install transformers\n",
        "!pip install seqeval\n"
      ],
      "metadata": {
        "colab": {
          "base_uri": "https://localhost:8080/"
        },
        "id": "sXMjGHMoolxy",
        "outputId": "ef589467-5ff7-416c-b8c1-f927cd3aae8c"
      },
      "execution_count": 5,
      "outputs": [
        {
          "output_type": "stream",
          "name": "stdout",
          "text": [
            "\u001b[33mWARNING: Skipping transformers as it is not installed.\u001b[0m\n",
            "Collecting transformers\n",
            "  Downloading transformers-4.16.2-py3-none-any.whl (3.5 MB)\n",
            "\u001b[K     |████████████████████████████████| 3.5 MB 5.3 MB/s \n",
            "\u001b[?25hRequirement already satisfied: regex!=2019.12.17 in /usr/local/lib/python3.7/dist-packages (from transformers) (2019.12.20)\n",
            "Collecting pyyaml>=5.1\n",
            "  Downloading PyYAML-6.0-cp37-cp37m-manylinux_2_5_x86_64.manylinux1_x86_64.manylinux_2_12_x86_64.manylinux2010_x86_64.whl (596 kB)\n",
            "\u001b[K     |████████████████████████████████| 596 kB 45.4 MB/s \n",
            "\u001b[?25hRequirement already satisfied: requests in /usr/local/lib/python3.7/dist-packages (from transformers) (2.23.0)\n",
            "Requirement already satisfied: tqdm>=4.27 in /usr/local/lib/python3.7/dist-packages (from transformers) (4.62.3)\n",
            "Requirement already satisfied: filelock in /usr/local/lib/python3.7/dist-packages (from transformers) (3.4.2)\n",
            "Collecting tokenizers!=0.11.3,>=0.10.1\n",
            "  Downloading tokenizers-0.11.4-cp37-cp37m-manylinux_2_12_x86_64.manylinux2010_x86_64.whl (6.8 MB)\n",
            "\u001b[K     |████████████████████████████████| 6.8 MB 34.2 MB/s \n",
            "\u001b[?25hRequirement already satisfied: packaging>=20.0 in /usr/local/lib/python3.7/dist-packages (from transformers) (21.3)\n",
            "Collecting huggingface-hub<1.0,>=0.1.0\n",
            "  Downloading huggingface_hub-0.4.0-py3-none-any.whl (67 kB)\n",
            "\u001b[K     |████████████████████████████████| 67 kB 5.3 MB/s \n",
            "\u001b[?25hRequirement already satisfied: numpy>=1.17 in /usr/local/lib/python3.7/dist-packages (from transformers) (1.19.5)\n",
            "Requirement already satisfied: importlib-metadata in /usr/local/lib/python3.7/dist-packages (from transformers) (4.10.1)\n",
            "Collecting sacremoses\n",
            "  Downloading sacremoses-0.0.47-py2.py3-none-any.whl (895 kB)\n",
            "\u001b[K     |████████████████████████████████| 895 kB 46.6 MB/s \n",
            "\u001b[?25hRequirement already satisfied: typing-extensions>=3.7.4.3 in /usr/local/lib/python3.7/dist-packages (from huggingface-hub<1.0,>=0.1.0->transformers) (3.10.0.2)\n",
            "Requirement already satisfied: pyparsing!=3.0.5,>=2.0.2 in /usr/local/lib/python3.7/dist-packages (from packaging>=20.0->transformers) (3.0.7)\n",
            "Requirement already satisfied: zipp>=0.5 in /usr/local/lib/python3.7/dist-packages (from importlib-metadata->transformers) (3.7.0)\n",
            "Requirement already satisfied: chardet<4,>=3.0.2 in /usr/local/lib/python3.7/dist-packages (from requests->transformers) (3.0.4)\n",
            "Requirement already satisfied: idna<3,>=2.5 in /usr/local/lib/python3.7/dist-packages (from requests->transformers) (2.10)\n",
            "Requirement already satisfied: certifi>=2017.4.17 in /usr/local/lib/python3.7/dist-packages (from requests->transformers) (2021.10.8)\n",
            "Requirement already satisfied: urllib3!=1.25.0,!=1.25.1,<1.26,>=1.21.1 in /usr/local/lib/python3.7/dist-packages (from requests->transformers) (1.24.3)\n",
            "Requirement already satisfied: click in /usr/local/lib/python3.7/dist-packages (from sacremoses->transformers) (7.1.2)\n",
            "Requirement already satisfied: six in /usr/local/lib/python3.7/dist-packages (from sacremoses->transformers) (1.15.0)\n",
            "Requirement already satisfied: joblib in /usr/local/lib/python3.7/dist-packages (from sacremoses->transformers) (1.1.0)\n",
            "Installing collected packages: pyyaml, tokenizers, sacremoses, huggingface-hub, transformers\n",
            "  Attempting uninstall: pyyaml\n",
            "    Found existing installation: PyYAML 3.13\n",
            "    Uninstalling PyYAML-3.13:\n",
            "      Successfully uninstalled PyYAML-3.13\n",
            "Successfully installed huggingface-hub-0.4.0 pyyaml-6.0 sacremoses-0.0.47 tokenizers-0.11.4 transformers-4.16.2\n",
            "Collecting seqeval\n",
            "  Downloading seqeval-1.2.2.tar.gz (43 kB)\n",
            "\u001b[K     |████████████████████████████████| 43 kB 1.1 MB/s \n",
            "\u001b[?25hRequirement already satisfied: numpy>=1.14.0 in /usr/local/lib/python3.7/dist-packages (from seqeval) (1.19.5)\n",
            "Requirement already satisfied: scikit-learn>=0.21.3 in /usr/local/lib/python3.7/dist-packages (from seqeval) (1.0.2)\n",
            "Requirement already satisfied: joblib>=0.11 in /usr/local/lib/python3.7/dist-packages (from scikit-learn>=0.21.3->seqeval) (1.1.0)\n",
            "Requirement already satisfied: threadpoolctl>=2.0.0 in /usr/local/lib/python3.7/dist-packages (from scikit-learn>=0.21.3->seqeval) (3.1.0)\n",
            "Requirement already satisfied: scipy>=1.1.0 in /usr/local/lib/python3.7/dist-packages (from scikit-learn>=0.21.3->seqeval) (1.4.1)\n",
            "Building wheels for collected packages: seqeval\n",
            "  Building wheel for seqeval (setup.py) ... \u001b[?25l\u001b[?25hdone\n",
            "  Created wheel for seqeval: filename=seqeval-1.2.2-py3-none-any.whl size=16180 sha256=e8a11a8555796daea3e6197b5dd66cfcdafafc28d74d3a27035c796c8464bfeb\n",
            "  Stored in directory: /root/.cache/pip/wheels/05/96/ee/7cac4e74f3b19e3158dce26a20a1c86b3533c43ec72a549fd7\n",
            "Successfully built seqeval\n",
            "Installing collected packages: seqeval\n",
            "Successfully installed seqeval-1.2.2\n"
          ]
        }
      ]
    },
    {
      "cell_type": "code",
      "source": [
        "!python -V"
      ],
      "metadata": {
        "colab": {
          "base_uri": "https://localhost:8080/"
        },
        "id": "J1d_MeXzpYhi",
        "outputId": "c6758580-c1fa-4af1-9096-ef6e98223068"
      },
      "execution_count": 6,
      "outputs": [
        {
          "output_type": "stream",
          "name": "stdout",
          "text": [
            "Python 3.7.12\n"
          ]
        }
      ]
    },
    {
      "cell_type": "code",
      "source": [
        "!python funsd_sroie.py"
      ],
      "metadata": {
        "colab": {
          "base_uri": "https://localhost:8080/"
        },
        "id": "Xt0bu5xXoxA2",
        "outputId": "9b824a4e-0dd0-448a-86ee-0de81e0d690f"
      },
      "execution_count": 7,
      "outputs": [
        {
          "output_type": "stream",
          "name": "stdout",
          "text": [
            "python3: can't open file 'funsd_sroie.py': [Errno 2] No such file or directory\n"
          ]
        }
      ]
    },
    {
      "cell_type": "code",
      "source": [
        "cd '/content/PIC_BNP_PROJET'"
      ],
      "metadata": {
        "colab": {
          "base_uri": "https://localhost:8080/"
        },
        "id": "I3h5KeU0uiUK",
        "outputId": "91eeb4cf-b535-460e-dedc-155b380c007e"
      },
      "execution_count": 18,
      "outputs": [
        {
          "output_type": "stream",
          "name": "stdout",
          "text": [
            "/content/PIC_BNP_PROJET\n"
          ]
        }
      ]
    },
    {
      "cell_type": "code",
      "source": [
        "!pwd "
      ],
      "metadata": {
        "colab": {
          "base_uri": "https://localhost:8080/"
        },
        "id": "mIe8ytI1sn7b",
        "outputId": "b80e3be9-77eb-407b-ff2d-df0c006f1323"
      },
      "execution_count": 19,
      "outputs": [
        {
          "output_type": "stream",
          "name": "stdout",
          "text": [
            "/content/PIC_BNP_PROJET\n"
          ]
        }
      ]
    },
    {
      "cell_type": "code",
      "source": [
        "!python main.py  --data_root './data_loading/SROIE' \\\n",
        "                --dataset 'sroie' \\\n",
        "                --model 'LayoutLM' \\\n",
        "                --num_train_epochs 10 \\\n",
        "                --lr 5e-5 \\\n",
        "                --batch_size 2 \\\n",
        "                --val_batch_size 1 \\\n",
        "                --gpu_id 0 \\\n",
        "\n",
        "                "
      ],
      "metadata": {
        "colab": {
          "base_uri": "https://localhost:8080/"
        },
        "id": "0YB2_mewroWl",
        "outputId": "80fd59b4-c630-487b-f23a-15db896c0c90"
      },
      "execution_count": 32,
      "outputs": [
        {
          "output_type": "stream",
          "name": "stdout",
          "text": [
            "75\n",
            "26\n",
            "<torch.utils.data.dataloader.DataLoader object at 0x7f457a2c5150>\n",
            "Device: cuda\n",
            "313\n",
            "174\n",
            "<torch.utils.data.dataloader.DataLoader object at 0x7f4579763c10>\n",
            "5\n",
            "Downloading: 100% 432M/432M [00:11<00:00, 39.7MB/s]\n",
            "Some weights of the model checkpoint at microsoft/layoutlm-base-uncased were not used when initializing LayoutLMForTokenClassification: ['cls.predictions.transform.LayerNorm.weight', 'cls.predictions.decoder.bias', 'cls.predictions.transform.LayerNorm.bias', 'cls.predictions.transform.dense.bias', 'cls.predictions.decoder.weight', 'cls.predictions.bias', 'cls.predictions.transform.dense.weight']\n",
            "- This IS expected if you are initializing LayoutLMForTokenClassification from the checkpoint of a model trained on another task or with another architecture (e.g. initializing a BertForSequenceClassification model from a BertForPreTraining model).\n",
            "- This IS NOT expected if you are initializing LayoutLMForTokenClassification from the checkpoint of a model that you expect to be exactly identical (initializing a BertForSequenceClassification model from a BertForSequenceClassification model).\n",
            "Some weights of LayoutLMForTokenClassification were not initialized from the model checkpoint at microsoft/layoutlm-base-uncased and are newly initialized: ['classifier.weight', 'classifier.bias']\n",
            "You should probably TRAIN this model on a down-stream task to be able to use it for predictions and inference.\n",
            "/usr/local/lib/python3.7/dist-packages/transformers/optimization.py:309: FutureWarning: This implementation of AdamW is deprecated and will be removed in a future version. Use thePyTorch implementation torch.optim.AdamW instead, or set `no_deprecation_warning=True` to disable this warning\n",
            "  FutureWarning,\n",
            "test\n",
            "Training:   0% 0/313 [00:00<?, ?it/s]Loss after 0 steps: 1.6255099773406982\n",
            "Training:  32% 100/313 [00:42<01:31,  2.33it/s]Loss after 100 steps: 0.09750363975763321\n",
            "Training:  64% 200/313 [01:25<00:48,  2.33it/s]Loss after 200 steps: 0.03971084579825401\n",
            "Training:  96% 300/313 [02:08<00:05,  2.32it/s]Loss after 300 steps: 0.09512753039598465\n",
            "Training: 100% 313/313 [02:14<00:00,  2.33it/s]\n",
            "Training:  28% 87/313 [00:37<01:36,  2.33it/s]Loss after 400 steps: 0.15325839817523956\n",
            "Training:  60% 187/313 [01:20<00:54,  2.33it/s]Loss after 500 steps: 0.07306776940822601\n",
            "Training:  80% 249/313 [01:47<00:27,  2.32it/s]\n",
            "Traceback (most recent call last):\n",
            "  File \"main.py\", line 89, in <module>\n",
            "    main()\n",
            "  File \"main.py\", line 85, in main\n",
            "    globel_step, loss = train(model=model, device=device, train_dataloader=train_dataloader, eval_dataloader=eval_dataloader,optimizer=optimizer, labels=labels,num_train_epochs = opts.num_train_epochs)\n",
            "  File \"/content/PIC_BNP_PROJET/training/train.py\", line 33, in train\n",
            "    labels=labels)\n",
            "  File \"/usr/local/lib/python3.7/dist-packages/torch/nn/modules/module.py\", line 1102, in _call_impl\n",
            "    return forward_call(*input, **kwargs)\n",
            "  File \"/usr/local/lib/python3.7/dist-packages/transformers/models/layoutlm/modeling_layoutlm.py\", line 1221, in forward\n",
            "    active_loss, labels.view(-1), torch.tensor(loss_fct.ignore_index).type_as(labels)\n",
            "KeyboardInterrupt\n"
          ]
        }
      ]
    },
    {
      "cell_type": "code",
      "source": [
        "!git add ."
      ],
      "metadata": {
        "id": "SS3TFWGc0fyl"
      },
      "execution_count": 34,
      "outputs": []
    },
    {
      "cell_type": "code",
      "source": [
        "!git config --global user.email \"yoldoztabei@gmail.com\""
      ],
      "metadata": {
        "id": "AhocgUNE1Vf9"
      },
      "execution_count": 36,
      "outputs": []
    },
    {
      "cell_type": "code",
      "source": [
        "!git config --global user.name \"Yoldoz Tabei\""
      ],
      "metadata": {
        "id": "xJpKLTNO1efU"
      },
      "execution_count": 37,
      "outputs": []
    },
    {
      "cell_type": "code",
      "source": [
        "!git commit -m 'update' "
      ],
      "metadata": {
        "colab": {
          "base_uri": "https://localhost:8080/"
        },
        "id": "jgOfiTNl1OIF",
        "outputId": "d997027a-9763-42c3-8ad4-cce461792e96"
      },
      "execution_count": 38,
      "outputs": [
        {
          "output_type": "stream",
          "name": "stdout",
          "text": [
            "[master 823a326] update\n",
            " 16 files changed, 339304 insertions(+), 24 deletions(-)\n",
            " create mode 100644 data_loading/SROIE/cached_test_layoutlm-base-uncased_512\n",
            " create mode 100644 data_loading/SROIE/cached_train_layoutlm-base-uncased_512\n",
            " create mode 100644 data_loading/SROIE/labels.txt\n",
            " create mode 100644 data_loading/SROIE/test.txt\n",
            " create mode 100644 data_loading/SROIE/test_box.txt\n",
            " create mode 100644 data_loading/SROIE/test_image.txt\n",
            " create mode 100644 data_loading/SROIE/train.txt\n",
            " create mode 100644 data_loading/SROIE/train_box.txt\n",
            " create mode 100644 data_loading/SROIE/train_image.txt\n",
            " create mode 100644 data_loading/__pycache__/funsd.cpython-37.pyc\n",
            " create mode 100644 data_loading/__pycache__/funsd_sroie.cpython-37.pyc\n",
            " create mode 100644 data_loading/__pycache__/read_txt_utils.cpython-37.pyc\n",
            " create mode 100644 data_loading/funsd_sroie.py\n",
            " create mode 100644 training/__pycache__/evaluate.cpython-37.pyc\n",
            " create mode 100644 training/__pycache__/train.cpython-37.pyc\n"
          ]
        }
      ]
    },
    {
      "cell_type": "code",
      "source": [
        "!git push"
      ],
      "metadata": {
        "colab": {
          "base_uri": "https://localhost:8080/"
        },
        "id": "qgQcjEX51qFk",
        "outputId": "6e31a04f-f16d-418a-f4ae-bfcf7c20c3a9"
      },
      "execution_count": 39,
      "outputs": [
        {
          "output_type": "stream",
          "name": "stdout",
          "text": [
            "fatal: could not read Username for 'https://github.com': No such device or address\n"
          ]
        }
      ]
    },
    {
      "cell_type": "code",
      "source": [
        "from google.colab import drive\n",
        "drive.mount('/content/drive')"
      ],
      "metadata": {
        "id": "NXL9wQFp1xYa"
      },
      "execution_count": null,
      "outputs": []
    }
  ]
}